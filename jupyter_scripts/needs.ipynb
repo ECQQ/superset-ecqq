{
 "cells": [
  {
   "cell_type": "code",
   "execution_count": 15,
   "id": "filled-microphone",
   "metadata": {},
   "outputs": [],
   "source": [
    "import csv\n",
    "import re\n",
    "import string\n",
    "import json\n",
    "\n",
    "import openpyxl\n",
    "\n",
    "file_needs = 'needs.xlsx'\n",
    "output_file = 'need_data.sql'\n",
    "\n",
    "values = list()"
   ]
  },
  {
   "cell_type": "code",
   "execution_count": 22,
   "id": "distinct-tower",
   "metadata": {},
   "outputs": [],
   "source": [
    "book = openpyxl.load_workbook(file_needs)\n",
    "\n",
    "sheet = book.active\n",
    "\n",
    "values = list()\n",
    "\n",
    "for row in sheet.iter_rows(min_row=2):\n",
    "    need_id = int(row[0].value)\n",
    "    \n",
    "    name = str(row[1].value)\n",
    "    if name != None:\n",
    "        if name != 'NR':\n",
    "            name = name.capitalize()\n",
    "    \n",
    "    actor = row[2].value\n",
    "    if actor != None:\n",
    "        if actor != 'NR':\n",
    "            actor = actor.capitalize()\n",
    "    \n",
    "    role = str(row[3].value)\n",
    "    if role != None:\n",
    "        if role != 'NR':\n",
    "            role = role.capitalize()\n",
    "            \n",
    "    role_token = row[4].value\n",
    "    macro = row[5].value\n",
    "    \n",
    "    if actor == 'State':\n",
    "        actor = 'Estado'\n",
    "    \n",
    "    string_value = '''(\\'{}\\',\\'{}\\',\\'{}\\',\\'{}\\',\\'{}\\',\\'{}\\'),'''.format(need_id, name, actor, role, role_token.replace('\\'','\"'), macro)\n",
    "    values.append(string_value)\n",
    "        \n",
    "        \n",
    "with open(output_file, 'w') as new_file:\n",
    "    for index, value in enumerate(values):\n",
    "        if index == 0:\n",
    "            print('INSERT INTO need VALUES {}'.format(value), file=new_file)\n",
    "        elif index == len(values) - 1:\n",
    "            print('''{};'''.format(value), file=new_file)\n",
    "        else:\n",
    "            print(value, file=new_file)"
   ]
  },
  {
   "cell_type": "code",
   "execution_count": null,
   "id": "above-catch",
   "metadata": {},
   "outputs": [],
   "source": []
  }
 ],
 "metadata": {
  "kernelspec": {
   "display_name": "Python 3",
   "language": "python",
   "name": "python3"
  },
  "language_info": {
   "codemirror_mode": {
    "name": "ipython",
    "version": 3
   },
   "file_extension": ".py",
   "mimetype": "text/x-python",
   "name": "python",
   "nbconvert_exporter": "python",
   "pygments_lexer": "ipython3",
   "version": "3.8.5"
  }
 },
 "nbformat": 4,
 "nbformat_minor": 5
}
